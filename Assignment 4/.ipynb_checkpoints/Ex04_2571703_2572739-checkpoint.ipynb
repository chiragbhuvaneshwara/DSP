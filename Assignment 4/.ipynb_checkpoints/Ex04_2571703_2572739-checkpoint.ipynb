{
 "cells": [
  {
   "cell_type": "markdown",
   "metadata": {},
   "source": [
    "### Team members\n",
    "\n",
    "##### Chirag Bhuvaneshwara\n",
    "* 2571703\n",
    "* s8chbhuv@stud.uni-saarland.de\n",
    "\n",
    "##### Priyasha Chatterjee \n",
    "* 2572739\n",
    "* s8prchat@stud.uni-saarland.de"
   ]
  },
  {
   "cell_type": "code",
   "execution_count": 56,
   "metadata": {},
   "outputs": [],
   "source": [
    "import numpy as np\n",
    "import matplotlib.pyplot as plt\n",
    "import math\n",
    "import time\n",
    "import sounddevice as sd\n",
    "from scipy.io import wavfile\n",
    "import random\n",
    "from numpy import linalg as LA"
   ]
  },
  {
   "cell_type": "code",
   "execution_count": 48,
   "metadata": {},
   "outputs": [],
   "source": [
    "f1 = \"signals/Sensor1.wav\"\n",
    "f2 = \"signals/Sensor2.wav\"\n",
    "f3 = \"signals/Sensor3.wav\""
   ]
  },
  {
   "cell_type": "code",
   "execution_count": 59,
   "metadata": {},
   "outputs": [],
   "source": [
    "fs, sensor1 = wavfile.read(f1)\n",
    "fs, sensor2 = wavfile.read(f2)\n",
    "fs, sensor3 = wavfile.read(f3)"
   ]
  },
  {
   "cell_type": "code",
   "execution_count": 50,
   "metadata": {},
   "outputs": [],
   "source": [
    "# sd.play(sensor1, fs)"
   ]
  },
  {
   "cell_type": "code",
   "execution_count": 51,
   "metadata": {},
   "outputs": [
    {
     "data": {
      "text/plain": [
       "183.75"
      ]
     },
     "execution_count": 51,
     "metadata": {},
     "output_type": "execute_result"
    }
   ],
   "source": [
    "fs/60"
   ]
  },
  {
   "cell_type": "markdown",
   "metadata": {},
   "source": [
    "# 1.2 Circular Cross Correlation and DFT"
   ]
  },
  {
   "cell_type": "code",
   "execution_count": 52,
   "metadata": {},
   "outputs": [],
   "source": [
    "def crossCorrelation(signal1, signal2, verbose = True):\n",
    "    \n",
    "    time1 = time.time()\n",
    "    \n",
    "    signal1 = np.conj(np.fft.fft(signal1))\n",
    "    signal2 = np.fft.fft(signal2)\n",
    "    \n",
    "    N = len(signal1)\n",
    "    \n",
    "    res = np.zeros(N)\n",
    "    for n in range(N):\n",
    "        res[n] = signal1[n] * signal2[n]\n",
    "        \n",
    "    res = np.fft.ifft(res)\n",
    "    \n",
    "    time2 = time.time()\n",
    "    if verbose == True:\n",
    "        print('Cross correlation with DFT took {:.3f} ms'.format((time2-time1)*1000.0))\n",
    "    \n",
    "    \n",
    "    return res"
   ]
  },
  {
   "cell_type": "code",
   "execution_count": 53,
   "metadata": {},
   "outputs": [
    {
     "name": "stdout",
     "output_type": "stream",
     "text": [
      "Cross correlation with DFT took 132.893 ms\n"
     ]
    },
    {
     "name": "stderr",
     "output_type": "stream",
     "text": [
      "/home/chirag/anaconda3/envs/DSP/lib/python3.6/site-packages/ipykernel_launcher.py:12: ComplexWarning: Casting complex values to real discards the imaginary part\n",
      "  if sys.path[0] == '':\n"
     ]
    }
   ],
   "source": [
    "crCor = crossCorrelation(sensor1, sensor2)"
   ]
  },
  {
   "cell_type": "code",
   "execution_count": 54,
   "metadata": {},
   "outputs": [
    {
     "data": {
      "image/png": "[encoded data removed]",
      "text/plain": [
       "<Figure size 432x288 with 1 Axes>"
      ]
     },
     "metadata": {
      "needs_background": "light"
     },
     "output_type": "display_data"
    }
   ],
   "source": [
    "time = [i for i in range(len(crCor))]\n",
    "plt.plot(time, crCor)\n",
    "plt.xlabel(\"time\")\n",
    "plt.ylabel(\"cross correlation\")\n",
    "plt.show()"
   ]
  },
  {
   "cell_type": "code",
   "execution_count": 55,
   "metadata": {},
   "outputs": [
    {
     "data": {
      "image/png": "[encoded data removed]",
      "text/plain": [
       "<Figure size 432x288 with 1 Axes>"
      ]
     },
     "metadata": {
      "needs_background": "light"
     },
     "output_type": "display_data"
    }
   ],
   "source": [
    "crCorForSec = [crCor[i] for i in range(0,len(crCor),fs) ]\n",
    "time = [i for i in range(len(crCorForSec))]\n",
    "plt.plot(time, crCorForSec)\n",
    "plt.xlabel(\"time in seconds\")\n",
    "plt.ylabel(\"cross correlation\")\n",
    "plt.show()"
   ]
  },
  {
   "cell_type": "markdown",
   "metadata": {},
   "source": [
    "# 1.2 GCC-PATH correlation"
   ]
  },
  {
   "cell_type": "code",
   "execution_count": 62,
   "metadata": {},
   "outputs": [],
   "source": [
    "def gpath(signal1, signal2):\n",
    "    \n",
    "    signal1 = np.fft.fft(signal1)\n",
    "    signal2 = np.conj(np.fft.fft(signal2))\n",
    "    \n",
    "    N = len(signal1)\n",
    "    \n",
    "    gpath = np.zeros(N)\n",
    "    for f in range(N):\n",
    "        print(signal1[f])\n",
    "        print(signal2[f])\n",
    "        print(\"_____________________\")\n",
    "        gpath[f] = (signal1[f] * signal2[f])/ (signal1[f]*np.conj(signal2[f]))\n",
    "    \n",
    "    return gpath"
   ]
  },
  {
   "cell_type": "code",
   "execution_count": 63,
   "metadata": {},
   "outputs": [
    {
     "name": "stderr",
     "output_type": "stream",
     "text": [
      "/home/chirag/anaconda3/envs/DSP/lib/python3.6/site-packages/ipykernel_launcher.py:10: ComplexWarning: Casting complex values to real discards the imaginary part\n",
      "  # Remove the CWD from sys.path while we load stuff.\n"
     ]
    },
    {
     "data": {
      "text/plain": [
       "array([ 1.        ,  0.68196899, -0.92411506, ..., -0.91595412,\n",
       "       -0.92411506,  0.68196899])"
      ]
     },
     "execution_count": 63,
     "metadata": {},
     "output_type": "execute_result"
    }
   ],
   "source": [
    "gpath(sensor1, sensor2)"
   ]
  },
  {
   "cell_type": "code",
   "execution_count": null,
   "metadata": {},
   "outputs": [],
   "source": []
  }
 ],
 "metadata": {
  "kernelspec": {
   "display_name": "Python 3",
   "language": "python",
   "name": "python3"
  },
  "language_info": {
   "codemirror_mode": {
    "name": "ipython",
    "version": 3
   },
   "file_extension": ".py",
   "mimetype": "text/x-python",
   "name": "python",
   "nbconvert_exporter": "python",
   "pygments_lexer": "ipython3",
   "version": "3.6.7"
  }
 },
 "nbformat": 4,
 "nbformat_minor": 2
}
