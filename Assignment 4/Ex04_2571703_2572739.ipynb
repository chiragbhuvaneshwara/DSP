{
 "cells": [
  {
   "cell_type": "markdown",
   "metadata": {},
   "source": [
    "### Team members\n",
    "\n",
    "##### Chirag Bhuvaneshwara\n",
    "* 2571703\n",
    "* s8chbhuv@stud.uni-saarland.de\n",
    "\n",
    "##### Priyasha Chatterjee \n",
    "* 2572739\n",
    "* s8prchat@stud.uni-saarland.de"
   ]
  },
  {
   "cell_type": "code",
   "execution_count": 134,
   "metadata": {},
   "outputs": [],
   "source": [
    "import numpy as np\n",
    "import matplotlib.pyplot as plt\n",
    "import math\n",
    "import time\n",
    "import sounddevice as sd\n",
    "from scipy.io import wavfile\n",
    "import random\n",
    "from numpy import linalg as LA"
   ]
  },
  {
   "cell_type": "code",
   "execution_count": 135,
   "metadata": {},
   "outputs": [],
   "source": [
    "f1 = \"signals/Sensor1.wav\"\n",
    "f2 = \"signals/Sensor2.wav\"\n",
    "f3 = \"signals/Sensor3.wav\""
   ]
  },
  {
   "cell_type": "code",
   "execution_count": 136,
   "metadata": {},
   "outputs": [],
   "source": [
    "fs, sensor1 = wavfile.read(f1)\n",
    "fs, sensor2 = wavfile.read(f2)\n",
    "fs, sensor3 = wavfile.read(f3)"
   ]
  },
  {
   "cell_type": "code",
   "execution_count": 137,
   "metadata": {},
   "outputs": [],
   "source": [
    "# sd.play(sensor1, fs)"
   ]
  },
  {
   "cell_type": "code",
   "execution_count": 138,
   "metadata": {},
   "outputs": [
    {
     "data": {
      "text/plain": [
       "183.75"
      ]
     },
     "execution_count": 138,
     "metadata": {},
     "output_type": "execute_result"
    }
   ],
   "source": [
    "fs/60"
   ]
  },
  {
   "cell_type": "markdown",
   "metadata": {},
   "source": [
    "# 1.1 Cross Correlation: Naive v/s DFT\n",
    "\n",
    "Intuitive Meaning of Cross Correlation:\n",
    "We know that correlation is a measure of how much a given signal correlates with, or resembles, another. Cross correlation is also a measure of similarity of two signals, as a function of displacement of one with respect to the other. Looking at the equation, we can see that it has a similar nature to convolution, only differing in that it does not require the other signal to be flipped, but only time-shifted. \n",
    "\n",
    "\n",
    "Asymptotic running time:\n",
    "\n",
    "- For Naive implementation: O(n^2).\n",
    "- For DFT implementation: O(n log n).\n",
    "\n",
    "where n is the length of the input signal.\n",
    "\n",
    "The asymptotic running time of the DFT implementation is better than the naive implementation because each DFT is O(n log n), multiplication of the 2 signals in the Fourier domain is O(n^2) and finally the IDFT is again O(n log n). \n",
    "\n",
    "==> O(n log n) + O(n log n) + O(n) + O(n log n) = O(n log n) for the whole DFT implementation of cross correlation.\n"
   ]
  },
  {
   "cell_type": "markdown",
   "metadata": {},
   "source": [
    "# 1.2 Circular Cross Correlation and DFT"
   ]
  },
  {
   "cell_type": "code",
   "execution_count": 184,
   "metadata": {},
   "outputs": [],
   "source": [
    "def crossCorrelation(signal1, signal2, verbose = True):\n",
    "    \n",
    "    time1 = time.time()\n",
    "    \n",
    "    print(\"FFT: Signal1:\", np.fft.fft(signal1))\n",
    "    \n",
    "    signal1 = np.conj(np.fft.fft(signal1))\n",
    "    print(\"Conj:\", signal1)\n",
    "    signal2 = np.fft.fft(signal2)\n",
    "    print(\"FFT Signal 2:\", signal2)\n",
    "\n",
    "    res = signal1 * signal2\n",
    "    \n",
    "    print(\"Result:\",res)\n",
    "    res = np.fft.ifft(res)\n",
    "    print(\"IFFT:\", res)\n",
    "    \n",
    "    time2 = time.time()\n",
    "    if verbose == True:\n",
    "        print('Cross correlation with DFT took {:.3f} ms'.format((time2-time1)*1000.0))\n",
    "    \n",
    "    return res"
   ]
  },
  {
   "cell_type": "code",
   "execution_count": 185,
   "metadata": {},
   "outputs": [
    {
     "data": {
      "text/plain": [
       "array([ 3., 18.])"
      ]
     },
     "execution_count": 185,
     "metadata": {},
     "output_type": "execute_result"
    }
   ],
   "source": [
    "np.array([1.5,9]) * np.array([2,2])"
   ]
  },
  {
   "cell_type": "code",
   "execution_count": 186,
   "metadata": {},
   "outputs": [
    {
     "name": "stdout",
     "output_type": "stream",
     "text": [
      "FFT: Signal1: [-8.75079900e+06     +0.j          5.48523812e+05+238324.71001205j\n",
      " -5.92041277e+03 -29792.47328257j ... -4.75364245e+04+226000.19483327j\n",
      " -5.92041277e+03 +29792.47328257j  5.48523812e+05-238324.71001205j]\n",
      "Conj: [-8.75079900e+06     -0.j          5.48523812e+05-238324.71001205j\n",
      " -5.92041277e+03 +29792.47328257j ... -4.75364245e+04-226000.19483327j\n",
      " -5.92041277e+03 -29792.47328257j  5.48523812e+05+238324.71001205j]\n",
      "FFT Signal 2: [-1.24462080e+07     +0.j          7.83584960e+05-340670.32533058j\n",
      " -8.49585699e+03 +42751.19541156j ... -6.77495129e+04-323159.42235921j\n",
      " -8.49585699e+03 -42751.19541156j  7.83584960e+05+340670.32533058j]\n",
      "Result: [ 1.08914265e+14+0.00000000e+00j  3.48624853e+11-3.73613444e+11j\n",
      " -1.22336487e+09-5.06217316e+08j ... -6.98135228e+10+3.06732466e+10j\n",
      " -1.22336487e+09+5.06217316e+08j  3.48624853e+11+3.73613444e+11j]\n",
      "IFFT: [4.52411287e+10-4.01281646e-07j 1.71521912e+10+2.95096544e-06j\n",
      " 2.33751411e+10+1.64303085e-06j ... 1.92445258e+10-3.30857979e-06j\n",
      " 4.72174095e+10-5.11960152e-06j 6.39741780e+10-1.37235296e-06j]\n",
      "Cross correlation with DFT took 57.501 ms\n"
     ]
    }
   ],
   "source": [
    "crCor = crossCorrelation(sensor1, sensor2)"
   ]
  },
  {
   "cell_type": "code",
   "execution_count": 187,
   "metadata": {},
   "outputs": [
    {
     "data": {
      "text/plain": [
       "array([4.52411287e+10-4.01281646e-07j, 1.71521912e+10+2.95096544e-06j,\n",
       "       2.33751411e+10+1.64303085e-06j, ...,\n",
       "       1.92445258e+10-3.30857979e-06j, 4.72174095e+10-5.11960152e-06j,\n",
       "       6.39741780e+10-1.37235296e-06j])"
      ]
     },
     "execution_count": 187,
     "metadata": {},
     "output_type": "execute_result"
    }
   ],
   "source": [
    "crCor"
   ]
  },
  {
   "cell_type": "code",
   "execution_count": 151,
   "metadata": {},
   "outputs": [
    {
     "data": {
      "image/png": "[encoded data removed]",
      "text/plain": [
       "<Figure size 432x288 with 1 Axes>"
      ]
     },
     "metadata": {
      "needs_background": "light"
     },
     "output_type": "display_data"
    }
   ],
   "source": [
    "timeVals = [i/fs for i in range(len(crCor))]\n",
    "plt.plot(timeVals, crCor)\n",
    "plt.xlabel(\"time\")\n",
    "plt.ylabel(\"circular cross correlation\")\n",
    "plt.show()"
   ]
  },
  {
   "cell_type": "code",
   "execution_count": 153,
   "metadata": {},
   "outputs": [],
   "source": [
    "# crCorForSec = [crCor[i] for i in range(0,len(crCor),fs) ]\n",
    "# timeVals = [i for i in range(len(crCorForSec))]\n",
    "# plt.plot(timeVals, crCorForSec)\n",
    "# plt.xlabel(\"time in seconds\")\n",
    "# plt.ylabel(\"circular cross correlation\")\n",
    "# plt.show()"
   ]
  },
  {
   "cell_type": "markdown",
   "metadata": {},
   "source": [
    "## What does max val of cross correlation mean?\n",
    "\n",
    "Cross correlation is calculated by shifting one of the signals and doing a dot product with the other signal. So , maximum value of cross correlation implies that the two signals are matching for that particular shift. This means that the peaks of the shifted signal and the peaks of the other signals are matching which maximises the area under the curve resulting from cross correlation.\n",
    "\n",
    "In our particular case, cross correlation is highest when time t = 8.5s and it decreases for other values of t."
   ]
  },
  {
   "cell_type": "markdown",
   "metadata": {},
   "source": [
    "# 1.3 GCC-PATH correlation"
   ]
  },
  {
   "cell_type": "markdown",
   "metadata": {},
   "source": [
    "1.3\n",
    "\n",
    "GCC-PHAT stands for General Cross Correlation with Phase Transform. This is used for computing the time delay between the reference channel and another channel, for a given segment. The GCC-PHAT is estimated as the delay that causes the cross correlation between the two segments to be maximum. \n",
    "One of the most significant factors to keep in mind is the analysis window size in relation to the segment size – a small analysis window degrades the cross-correlation estimation, while a large window reduces the resolution of changes in the time delay of arrival (TDOA).\n",
    "The maximum value of the inverse Fourier Transform of the GCC PHAT gives the estimated delay for a particular segment, but this maximum value is avoided in three cases, when the maximum could be due to a spurious noise, when two or more speakers overlap each other, and when the processed segment comprises a lot of acoustic data that isn’t speech.\n"
   ]
  },
  {
   "cell_type": "code",
   "execution_count": 154,
   "metadata": {},
   "outputs": [],
   "source": [
    "def gpath(signal1, signal2):\n",
    "    \n",
    "    signal1 = np.fft.fft(signal1)\n",
    "    signal2 = np.conj(np.fft.fft(signal2))\n",
    "    \n",
    "    N = len(signal1)\n",
    "    \n",
    "    gpath = np.zeros(N)\n",
    "    for f in range(N):\n",
    "        gpath[f] = (signal1[f] * signal2[f])/ abs(signal1[f]*np.conj(signal2[f]))\n",
    "    \n",
    "    return gpath"
   ]
  },
  {
   "cell_type": "code",
   "execution_count": 155,
   "metadata": {},
   "outputs": [
    {
     "name": "stderr",
     "output_type": "stream",
     "text": [
      "/home/chirag/anaconda3/envs/DSP/lib/python3.6/site-packages/ipykernel_launcher.py:10: ComplexWarning: Casting complex values to real discards the imaginary part\n",
      "  # Remove the CWD from sys.path while we load stuff.\n"
     ]
    }
   ],
   "source": [
    "gcc = gpath(sensor1, sensor2)"
   ]
  },
  {
   "cell_type": "code",
   "execution_count": 156,
   "metadata": {},
   "outputs": [
    {
     "data": {
      "text/plain": [
       "array([1.        , 0.99999996, 0.99999999, ..., 0.99999963, 0.99999999,\n",
       "       0.99999996])"
      ]
     },
     "execution_count": 156,
     "metadata": {},
     "output_type": "execute_result"
    }
   ],
   "source": [
    "gcc"
   ]
  },
  {
   "cell_type": "code",
   "execution_count": 157,
   "metadata": {},
   "outputs": [
    {
     "data": {
      "image/png": "[encoded data removed]",
      "text/plain": [
       "<Figure size 432x288 with 1 Axes>"
      ]
     },
     "metadata": {
      "needs_background": "light"
     },
     "output_type": "display_data"
    }
   ],
   "source": [
    "timeVals = [i/fs for i in range(len(gcc))]\n",
    "plt.plot(timeVals, gcc)\n",
    "plt.xlabel(\"time in seconds\")\n",
    "plt.ylabel(\"gcc cross correlation\")\n",
    "plt.show()"
   ]
  },
  {
   "cell_type": "code",
   "execution_count": 158,
   "metadata": {},
   "outputs": [],
   "source": [
    "# gccForSec = [gcc[i] for i in range(0,len(gcc),fs) ]\n",
    "# timeVals = [i for i in range(len(gccForSec))]\n",
    "# # print(gccForSec.shape)\n",
    "# # print()\n",
    "# plt.plot(timeVals, gccForSec)\n",
    "# plt.xlabel(\"time\")\n",
    "# plt.ylabel(\"gcc cross correlation\")\n",
    "# plt.show()"
   ]
  },
  {
   "cell_type": "markdown",
   "metadata": {},
   "source": [
    "# 2.1 Microphone Array"
   ]
  },
  {
   "cell_type": "code",
   "execution_count": 202,
   "metadata": {},
   "outputs": [
    {
     "data": {
      "image/png": "[encoded data removed]",
      "text/plain": [
       "<Figure size 432x288 with 1 Axes>"
      ]
     },
     "metadata": {
      "needs_background": "light"
     },
     "output_type": "display_data"
    }
   ],
   "source": [
    "fs = 45* (10**3)\n",
    "Ts = 1/fs\n",
    "delta_x = .25\n",
    "c = 343\n",
    "\n",
    "delta_t_vals = [m*Ts for m in range(-24,25)]\n",
    "\n",
    "phi_vals = [math.asin((c*delta_t)/delta_x) for delta_t in delta_t_vals]\n",
    "\n",
    "plt.plot(delta_t_vals, phi_vals)\n",
    "plt.xlabel(\"delta_t\")\n",
    "plt.ylabel(\"phi\")\n",
    "plt.show()"
   ]
  },
  {
   "cell_type": "code",
   "execution_count": 203,
   "metadata": {},
   "outputs": [
    {
     "data": {
      "image/png": "[encoded data removed]",
      "text/plain": [
       "<Figure size 432x288 with 1 Axes>"
      ]
     },
     "metadata": {
      "needs_background": "light"
     },
     "output_type": "display_data"
    }
   ],
   "source": [
    "fs = 45* (10**3)\n",
    "Ts = 1/fs\n",
    "delta_x = .5\n",
    "c = 343\n",
    "\n",
    "delta_t_vals = [m*Ts for m in range(-24,25)]\n",
    "\n",
    "phi_vals = [math.asin((c*delta_t)/delta_x) for delta_t in delta_t_vals]\n",
    "\n",
    "plt.plot(delta_t_vals, phi_vals)\n",
    "plt.xlabel(\"delta_t\")\n",
    "plt.ylabel(\"phi\")\n",
    "plt.show()"
   ]
  },
  {
   "cell_type": "markdown",
   "metadata": {},
   "source": [
    "## What is the maximum angle where the sound can be located ?\n",
    "\n",
    "Given that for time delay t,\n",
    "Δt = Δx. Sin (Ф)/c\n",
    "Sin (Ф) = (Δt . c)/ Δx\n",
    "\n",
    "Given values Δx = 0.25m, c = 343 m/s, fs = 45kHz \n",
    "Also given Δt = m.Ts = m. (1/fs)\n",
    "\n",
    "- Sin (Ф) = (m x 0.00002 x 343)/0.25 = m x 0.00030489\n",
    "\n",
    "Changing Δx to 0.5 m, \n",
    "- Sin (Ф) = (m x 0.00002 x 343)/0.5 = m x 0.015244\n",
    "\n",
    "For a frequency of 900 Hz, and Δx = 0.25m,\n",
    "- Sin (Ф) = (m x 0.0011 x 343)/0.25 = m x 1.52\n",
    "- Ф =  (m x 1.52)\n",
    "\n",
    "Since Sin Ф can take a max value of 1, \n",
    "- Ф =  Sin^-1 (1)\n",
    "- The maximum angle where sound can be located is: $\\pi / 2 $\n"
   ]
  },
  {
   "cell_type": "markdown",
   "metadata": {},
   "source": [
    "# 2.2 Locate the speaker"
   ]
  },
  {
   "cell_type": "code",
   "execution_count": 189,
   "metadata": {},
   "outputs": [
    {
     "name": "stderr",
     "output_type": "stream",
     "text": [
      "/home/chirag/anaconda3/envs/DSP/lib/python3.6/site-packages/ipykernel_launcher.py:10: ComplexWarning: Casting complex values to real discards the imaginary part\n",
      "  # Remove the CWD from sys.path while we load stuff.\n"
     ]
    }
   ],
   "source": [
    "gcc1 = gpath(sensor1, sensor2)\n",
    "gcc2 = gpath(sensor1, sensor3)\n",
    "gcc3 = gpath(sensor2, sensor3)"
   ]
  },
  {
   "cell_type": "code",
   "execution_count": 198,
   "metadata": {},
   "outputs": [
    {
     "name": "stdout",
     "output_type": "stream",
     "text": [
      "[1.         0.99999996 0.99999999 ... 0.99999963 0.99999999 0.99999996]\n",
      "[ 1.         -0.05858273  0.9668648  ...  0.62136763  0.9668648\n",
      " -0.05858273]\n",
      "[ 1.         -0.05887866  0.96683298 ...  0.62069569  0.96683298\n",
      " -0.05887866]\n"
     ]
    }
   ],
   "source": [
    "print(gcc1)\n",
    "print(gcc2)\n",
    "print(gcc3)"
   ]
  },
  {
   "cell_type": "code",
   "execution_count": 205,
   "metadata": {},
   "outputs": [
    {
     "data": {
      "image/png": "[encoded data removed]",
      "text/plain": [
       "<Figure size 432x288 with 1 Axes>"
      ]
     },
     "metadata": {
      "needs_background": "light"
     },
     "output_type": "display_data"
    }
   ],
   "source": [
    "fs = 45* (10**3)\n",
    "Ts = 1/fs\n",
    "delta_x = .2\n",
    "c = 343\n",
    "\n",
    "delta_t_vals = [(delta_x*math.sin(phi))/c for phi in gcc1]\n",
    "\n",
    "phi_vals = gcc1\n",
    "\n",
    "plt.plot(delta_t_vals, phi_vals)\n",
    "plt.xlabel(\"delta_t\")\n",
    "plt.ylabel(\"phi\")\n",
    "plt.show()"
   ]
  },
  {
   "cell_type": "code",
   "execution_count": 206,
   "metadata": {},
   "outputs": [
    {
     "data": {
      "image/png": "[encoded data removed]",
      "text/plain": [
       "<Figure size 432x288 with 1 Axes>"
      ]
     },
     "metadata": {
      "needs_background": "light"
     },
     "output_type": "display_data"
    }
   ],
   "source": [
    "fs = 45* (10**3)\n",
    "Ts = 1/fs\n",
    "delta_x = .2\n",
    "c = 343\n",
    "\n",
    "delta_t_vals = [(delta_x*math.sin(phi))/c for phi in gcc2]\n",
    "\n",
    "phi_vals = gcc2\n",
    "\n",
    "plt.plot(delta_t_vals, phi_vals)\n",
    "plt.xlabel(\"delta_t\")\n",
    "plt.ylabel(\"phi\")\n",
    "plt.show()"
   ]
  },
  {
   "cell_type": "code",
   "execution_count": 207,
   "metadata": {},
   "outputs": [
    {
     "data": {
      "image/png": "[encoded data removed]",
      "text/plain": [
       "<Figure size 432x288 with 1 Axes>"
      ]
     },
     "metadata": {
      "needs_background": "light"
     },
     "output_type": "display_data"
    }
   ],
   "source": [
    "fs = 45* (10**3)\n",
    "Ts = 1/fs\n",
    "delta_x = .2\n",
    "c = 343\n",
    "\n",
    "delta_t_vals = [(delta_x*math.sin(phi))/c for phi in gcc3]\n",
    "\n",
    "phi_vals = gcc3\n",
    "\n",
    "plt.plot(delta_t_vals, phi_vals)\n",
    "plt.xlabel(\"delta_t\")\n",
    "plt.ylabel(\"phi\")\n",
    "plt.show()"
   ]
  },
  {
   "cell_type": "markdown",
   "metadata": {},
   "source": [
    "The location of the speaker for the given case is unique in 3D. A microphone array is set up in a way that allows detection over a particular range, in a given direction. The system here is a triangular microphone array with three sensors collecting speaker information, which leads to triangulation of speaker location to a unique position in the grid covered by the microphone array. If the speaker was the move, then speaker localisation methods would have needed to be implemented, which is not the case here. \n"
   ]
  }
 ],
 "metadata": {
  "kernelspec": {
   "display_name": "Python 3",
   "language": "python",
   "name": "python3"
  },
  "language_info": {
   "codemirror_mode": {
    "name": "ipython",
    "version": 3
   },
   "file_extension": ".py",
   "mimetype": "text/x-python",
   "name": "python",
   "nbconvert_exporter": "python",
   "pygments_lexer": "ipython3",
   "version": "3.6.7"
  }
 },
 "nbformat": 4,
 "nbformat_minor": 2
}
