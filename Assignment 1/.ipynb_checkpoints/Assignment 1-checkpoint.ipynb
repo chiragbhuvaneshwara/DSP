{
 "cells": [
  {
   "cell_type": "code",
   "execution_count": 27,
   "metadata": {},
   "outputs": [],
   "source": [
    "from Utility import blockproc\n",
    "import numpy as np\n",
    "from PIL import Image\n",
    "# from scipy import ndimage\n",
    "\n",
    "from scipy.fftpack import dct\n",
    "from scipy.fftpack import idct"
   ]
  },
  {
   "cell_type": "code",
   "execution_count": 2,
   "metadata": {},
   "outputs": [
    {
     "data": {
      "text/plain": [
       "(640, 640, 3)"
      ]
     },
     "execution_count": 2,
     "metadata": {},
     "output_type": "execute_result"
    }
   ],
   "source": [
    "colaImage = Image.open(\"cola.jpg\")\n",
    "colaImageMat = np.array(colaImage)\n",
    "colaImageMat.shape"
   ]
  },
  {
   "cell_type": "code",
   "execution_count": 3,
   "metadata": {
    "scrolled": true
   },
   "outputs": [
    {
     "data": {
      "text/plain": [
       "array([[180.01, 180.01, 180.01, ..., 173.71, 173.71, 173.71],\n",
       "       [180.01, 180.01, 180.01, ..., 173.71, 173.71, 173.71],\n",
       "       [180.01, 180.01, 180.01, ..., 173.71, 173.71, 173.71],\n",
       "       ...,\n",
       "       [209.42, 209.42, 209.42, ..., 212.92, 212.92, 212.92],\n",
       "       [209.42, 209.42, 209.42, ..., 212.92, 212.92, 212.92],\n",
       "       [209.42, 209.42, 209.42, ..., 212.92, 212.92, 212.92]])"
      ]
     },
     "execution_count": 3,
     "metadata": {},
     "output_type": "execute_result"
    }
   ],
   "source": [
    "blockproc(colaImageMat[:,:,0], [10,10], np.mean)"
   ]
  },
  {
   "cell_type": "markdown",
   "metadata": {},
   "source": [
    "\n",
    "# 1.1 Optimal Color Space"
   ]
  },
  {
   "cell_type": "code",
   "execution_count": 4,
   "metadata": {},
   "outputs": [],
   "source": [
    "def colortrans(imgMat):\n",
    "    \"\"\"\n",
    "    imgMat: rgb image as a 3D np array\n",
    "    ------\n",
    "    return\n",
    "    ycbcr: ycbcr image as a 3D np array\n",
    "    \"\"\"\n",
    "    shape = imgMat.shape\n",
    "    ycbcr = np.zeros(shape)\n",
    "    \n",
    "    for i in range(shape[0]):\n",
    "        for j in range(shape[1]):\n",
    "            \n",
    "            l = np.array([0,128,128])\n",
    "            rgb = np.array([imgMat[i,j,0], imgMat[i,j,1], imgMat[i,j,2]])\n",
    "            transMat = np.array([[.299,.587,.114],[-.168736,-.331264,.5],[.5,-.418688,-0.081312]])\n",
    "            \n",
    "            ycbcr[i,j,:] += l + np.matmul(transMat, rgb)\n",
    "            \n",
    "    return ycbcr"
   ]
  },
  {
   "cell_type": "code",
   "execution_count": 5,
   "metadata": {},
   "outputs": [],
   "source": [
    "def invcolortrans(imgMat):\n",
    "    \"\"\"\n",
    "    imgMat: ycbcr image as 3D np array\n",
    "    --------\n",
    "    return\n",
    "    rgb: rgb image as 3D np array\n",
    "    \"\"\"\n",
    "    shape = imgMat.shape\n",
    "    rgb = np.zeros(shape)\n",
    "    \n",
    "    for i in range(shape[0]):\n",
    "        for j in range(shape[1]):\n",
    "            \n",
    "            l = np.array([0,128,128])\n",
    "            ycbcr = np.array([imgMat[i,j,0], imgMat[i,j,1], imgMat[i,j,2]])\n",
    "            transMat = np.array([[.299,.587,.114],[-.168736,-.331264,.5],[.5,-.418688,-0.081312]])\n",
    "            transMat = np.linalg.inv(transMat)\n",
    "            \n",
    "            diff = ycbcr - l\n",
    "            rgb[i,j,:] += np.matmul(transMat, diff)\n",
    "            \n",
    "    return rgb"
   ]
  },
  {
   "cell_type": "code",
   "execution_count": 6,
   "metadata": {},
   "outputs": [],
   "source": [
    "ycbcr = colortrans(colaImageMat)\n",
    "rgb = invcolortrans(ycbcr)"
   ]
  },
  {
   "cell_type": "code",
   "execution_count": 7,
   "metadata": {},
   "outputs": [
    {
     "data": {
      "text/plain": [
       "-6.755278984954752e-09"
      ]
     },
     "execution_count": 7,
     "metadata": {},
     "output_type": "execute_result"
    }
   ],
   "source": [
    "np.sum(rgb - colaImageMat)"
   ]
  },
  {
   "cell_type": "markdown",
   "metadata": {},
   "source": [
    "# 1.2 Downsample"
   ]
  },
  {
   "cell_type": "code",
   "execution_count": 8,
   "metadata": {},
   "outputs": [],
   "source": [
    "def downsample(imgChannel, w):\n",
    "    \n",
    "    meanImg = blockproc(imgChannel, [w,w], np.mean)\n",
    "    shape = imgChannel.shape\n",
    "    downsampleImg = np.zeros((shape[0]//w, shape[1]//w))\n",
    "    \n",
    "    for i in range(0, shape[0]//w):\n",
    "        for j in range(0,shape[1]//w):\n",
    "            \n",
    "            downsampleImg[i,j] = meanImg[i+ w//2, j+w//2]\n",
    "            \n",
    "    return downsampleImg"
   ]
  },
  {
   "cell_type": "code",
   "execution_count": 14,
   "metadata": {},
   "outputs": [],
   "source": [
    "q1 = downsample(ycbcr[:,:,1],4)"
   ]
  },
  {
   "cell_type": "code",
   "execution_count": 12,
   "metadata": {},
   "outputs": [
    {
     "name": "stdout",
     "output_type": "stream",
     "text": [
      "(160, 160)\n"
     ]
    }
   ],
   "source": [
    "print(downsample(ycbcr[:,:,1],4).shape)"
   ]
  },
  {
   "cell_type": "code",
   "execution_count": 13,
   "metadata": {},
   "outputs": [],
   "source": [
    "def upsample(downsampledImgChannel, w=4):\n",
    "    \n",
    "    shape = downsampledImgChannel.shape\n",
    "    newShape = (shape[0]*w, shape[1]*w)\n",
    "    upsampledImg = np.zeros(newShape)\n",
    "    \n",
    "    for i in range(shape[0]):\n",
    "        for j in range(shape[1]):\n",
    "            upsampledImg[i:i+w, j:j+w] = downsampledImgChannel[i,j]\n",
    "            \n",
    "    return upsampledImg"
   ]
  },
  {
   "cell_type": "code",
   "execution_count": 16,
   "metadata": {},
   "outputs": [
    {
     "data": {
      "text/plain": [
       "(640, 640)"
      ]
     },
     "execution_count": 16,
     "metadata": {},
     "output_type": "execute_result"
    }
   ],
   "source": [
    "upsample(q1).shape"
   ]
  },
  {
   "cell_type": "markdown",
   "metadata": {},
   "source": [
    "# 1.3 Quantization"
   ]
  },
  {
   "cell_type": "code",
   "execution_count": 45,
   "metadata": {},
   "outputs": [],
   "source": [
    "def quanmat(imgBlock):\n",
    "    \n",
    "    d = np.array(\n",
    "                    [8 ,16, 19, 22, 26, 27, 29, 34,\n",
    "                    16, 16, 22, 24, 27, 29, 34, 37,\n",
    "                    19, 22, 26, 27, 29, 34, 34, 38,\n",
    "                    22, 22, 26, 27, 29, 34, 37, 22,\n",
    "                    22, 26, 27, 29, 32, 35, 40, 22,\n",
    "                    26, 27, 29, 32, 35, 40, 48, 58,\n",
    "                    26, 27, 29, 36, 38, 46, 56, 69,\n",
    "                    27, 30, 35, 46, 46, 56, 69, 8 ]      )\n",
    "    \n",
    "    d = d.reshape(8,8)\n",
    "    \n",
    "    quantizedBlock = np.zeros((imgBlock.shape))\n",
    "    for i in range(imgBlock.shape[0]):\n",
    "        for j in range(imgBlock.shape[1]):\n",
    "            \n",
    "            quantizedBlock[i,j] = imgBlock[i,j]//d[i,j]\n",
    "                         \n",
    "    \n",
    "    return quantizedBlock\n",
    "            "
   ]
  },
  {
   "cell_type": "code",
   "execution_count": 46,
   "metadata": {},
   "outputs": [
    {
     "data": {
      "text/plain": [
       "array([[21., 10.,  8., ...,  6.,  5.,  4.],\n",
       "       [11., 11.,  8., ...,  5.,  4.,  4.],\n",
       "       [ 8.,  8.,  7., ...,  4.,  5.,  4.],\n",
       "       ...,\n",
       "       [ 8.,  7.,  7., ...,  5.,  4.,  3.],\n",
       "       [ 8.,  7.,  7., ...,  4.,  3.,  3.],\n",
       "       [ 7.,  6.,  5., ...,  3.,  3., 26.]])"
      ]
     },
     "execution_count": 46,
     "metadata": {},
     "output_type": "execute_result"
    }
   ],
   "source": [
    "blockproc(colaImageMat[:,:,0], [8,8], quanmat)"
   ]
  },
  {
   "cell_type": "markdown",
   "metadata": {},
   "source": [
    "# 1.4 DCT"
   ]
  },
  {
   "cell_type": "code",
   "execution_count": 47,
   "metadata": {},
   "outputs": [],
   "source": [
    "y_dash = blockproc(colaImageMat[:,:,0], [8,8], dct)\n",
    "cb_dash = blockproc(colaImageMat[:,:,1], [8,8], dct)\n",
    "cr_dash = blockproc(colaImageMat[:,:,2], [8,8], dct)"
   ]
  },
  {
   "cell_type": "code",
   "execution_count": 48,
   "metadata": {},
   "outputs": [],
   "source": [
    "y_dash = blockproc(y_dash, [8,8], quanmat)\n",
    "cb_dash = blockproc(cb_dash, [8,8], quanmat)\n",
    "cr_dash = blockproc(cr_dash, [8,8], quanmat)"
   ]
  },
  {
   "cell_type": "code",
   "execution_count": 49,
   "metadata": {},
   "outputs": [],
   "source": [
    "newY = blockproc(y_dash, [8,8], idct)\n",
    "newCb = blockproc(cb_dash, [8,8], idct)\n",
    "newCr= blockproc(cr_dash, [8,8], idct)"
   ]
  },
  {
   "cell_type": "code",
   "execution_count": 50,
   "metadata": {},
   "outputs": [],
   "source": [
    "# img = Image.fromarray(colaImageMat[:,:,0], 'L')\n",
    "# img.show()"
   ]
  },
  {
   "cell_type": "code",
   "execution_count": 51,
   "metadata": {},
   "outputs": [],
   "source": [
    "img = Image.fromarray(newY, 'L')\n",
    "img.show()"
   ]
  },
  {
   "cell_type": "markdown",
   "metadata": {},
   "source": [
    "# Continue"
   ]
  },
  {
   "cell_type": "code",
   "execution_count": null,
   "metadata": {},
   "outputs": [],
   "source": [
    "def downsample(img, w):\n",
    "    \"\"\"\n",
    "    img: ycbcr img as 3D np array\n",
    "    ------\n",
    "    return\n",
    "    ycbcr: same as input with cb and cr channels downsampled\n",
    "    \"\"\"\n",
    "    \n",
    "    downsampled_cb = blockproc(img[:,:,1], [w,w], np.mean)\n",
    "    downsampled_cr = blockproc(img[:,:,2], [w,w], np.mean)\n",
    "    \n",
    "    ycbcr = np.array([img[:,:,0], downsampled_cb, downsampled_cr])\n",
    "    \n",
    "    return ycbcr"
   ]
  },
  {
   "cell_type": "code",
   "execution_count": null,
   "metadata": {},
   "outputs": [],
   "source": [
    "def downsample(image, w):\n",
    "    \"\"\"\n",
    "    image: ycbcr img as 3D np array\n",
    "    ------\n",
    "    return\n",
    "    ycbcr: same as input with cb and cr channels downsampled\n",
    "    \"\"\"\n",
    "    \n",
    "    x,y = image[:,:,1].shape\n",
    "    bx = w\n",
    "    by = w\n",
    "    \n",
    "    out = np.zeros((bx,by,2))\n",
    "    \n",
    "    for channel in range(1,3):\n",
    "        for i in range(0,bx,1):\n",
    "            for j in range(0,by,1):\n",
    "\n",
    "                out[i, j, channel-1] = np.mean(image[i:i+w,j:j+w, channel])\n",
    "    \n",
    "    \n",
    "#     out[:,:,0] = image[:,:,0]\n",
    "    \n",
    "    return out"
   ]
  },
  {
   "cell_type": "code",
   "execution_count": null,
   "metadata": {},
   "outputs": [],
   "source": [
    "downsample(ycbcr, 100).shape"
   ]
  },
  {
   "cell_type": "code",
   "execution_count": null,
   "metadata": {},
   "outputs": [],
   "source": [
    "np.sum(ycbcr[:,:,1]) == np.sum(downsample(ycbcr, 10)[:,:,1])"
   ]
  },
  {
   "cell_type": "code",
   "execution_count": null,
   "metadata": {},
   "outputs": [],
   "source": [
    "scipy.ndi"
   ]
  },
  {
   "cell_type": "code",
   "execution_count": null,
   "metadata": {},
   "outputs": [],
   "source": [
    "def block_mean(ar, fact):\n",
    "    assert isinstance(fact, int), type(fact)\n",
    "    sx, sy = ar.shape\n",
    "    X, Y = np.ogrid[0:sx, 0:sy]\n",
    "    regions = sy/fact * (X/fact) + Y/fact\n",
    "    res = ndimage.mean(ar, labels=regions, index=np.arange(regions.max()))\n",
    "    res.shape = (int(sx/fact), int(sy/fact))\n",
    "    return res"
   ]
  },
  {
   "cell_type": "code",
   "execution_count": null,
   "metadata": {},
   "outputs": [],
   "source": [
    "block_mean(ycbcr[:,:,1],100).shape"
   ]
  },
  {
   "cell_type": "code",
   "execution_count": null,
   "metadata": {},
   "outputs": [],
   "source": [
    "import numpy as np\n",
    "from scipy import ndimage\n",
    "\n",
    "def block_mean(ar, fact):\n",
    "    assert isinstance(fact, int), type(fact)\n",
    "    sx, sy = ar.shape\n",
    "    X, Y = np.ogrid[0:sx, 0:sy]\n",
    "    regions = sy/fact * (X/fact) + Y/fact\n",
    "    res = ndimage.mean(ar, labels=regions, index=np.arange(regions.max() + 1))\n",
    "    res.shape = (sx/fact, sy/fact)\n",
    "    return res\n",
    "\n",
    "ar = np.random.rand(20000).reshape((100, 200))\n",
    "block_mean(ar, 5).shape  # (20, 40)"
   ]
  },
  {
   "cell_type": "code",
   "execution_count": null,
   "metadata": {},
   "outputs": [],
   "source": []
  },
  {
   "cell_type": "code",
   "execution_count": null,
   "metadata": {},
   "outputs": [],
   "source": [
    "def upsample(img, w):\n",
    "    \"\"\"\n",
    "    img: ycbcr img as 3D np array\n",
    "    ------\n",
    "    return\n",
    "    ycbcr: same as input with cb and cr channels upsampled\n",
    "    \"\"\""
   ]
  }
 ],
 "metadata": {
  "kernelspec": {
   "display_name": "Python 3",
   "language": "python",
   "name": "python3"
  },
  "language_info": {
   "codemirror_mode": {
    "name": "ipython",
    "version": 3
   },
   "file_extension": ".py",
   "mimetype": "text/x-python",
   "name": "python",
   "nbconvert_exporter": "python",
   "pygments_lexer": "ipython3",
   "version": "3.6.8"
  }
 },
 "nbformat": 4,
 "nbformat_minor": 2
}
